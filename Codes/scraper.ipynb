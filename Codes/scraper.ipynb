{
 "cells": [
  {
   "cell_type": "code",
   "execution_count": 1,
   "metadata": {},
   "outputs": [],
   "source": [
    "import httpx\n",
    "from selectolax.parser import HTMLParser"
   ]
  },
  {
   "cell_type": "code",
   "execution_count": 2,
   "metadata": {},
   "outputs": [],
   "source": [
    "#url = \"https://www.english-bangla.com/browse/bntobn\"\n",
    "\n",
    "def get_html(baseurl):\n",
    "\n",
    "    headers = {\"User-Agent\": \"Mozilla/5.0 (X11; Linux x86_64) AppleWebKit/537.36 (KHTML, like Gecko) Chrome/121.0.0.0 Safari/537.36\"}\n",
    "    resp = httpx.get(baseurl, headers=headers)\n",
    "    html = HTMLParser(resp.text)\n",
    "    #print(resp.status_code)\n",
    "    return html"
   ]
  },
  {
   "cell_type": "code",
   "execution_count": 3,
   "metadata": {},
   "outputs": [],
   "source": [
    "## create function to scrape data to dictionary\n",
    "\n",
    "def extract_text(html, selector):\n",
    "    try:\n",
    "        X = html.css_first(selector).text()\n",
    "        return X.replace('\\xa0', ' ')\n",
    "    except AttributeError:\n",
    "        return None"
   ]
  },
  {
   "cell_type": "code",
   "execution_count": 4,
   "metadata": {},
   "outputs": [],
   "source": [
    "def parse_page(html):\n",
    "    words = html.css('div.w_info')\n",
    "\n",
    "    for word in words:\n",
    "        item = {\n",
    "        \"word\" : extract_text(word, \"span.stl3\"),\n",
    "        \"meanings\" : extract_text(word, \"span.format1\")\n",
    "        }\n",
    "    X = extract_text(word, \"span.nextword\")\n",
    "    next = X.replace(\"পরবর্তী শব্দ : \",\"\")\n",
    "    print(next)"
   ]
  },
  {
   "cell_type": "code",
   "execution_count": 5,
   "metadata": {},
   "outputs": [],
   "source": [
    "def main():\n",
    "    baseurl = \"https://www.english-bangla.com/bntobn/index/অ\"\n",
    "    html = get_html(baseurl)\n",
    "    parse_page(html)"
   ]
  },
  {
   "cell_type": "code",
   "execution_count": 6,
   "metadata": {},
   "outputs": [
    {
     "name": "stdout",
     "output_type": "stream",
     "text": [
      "অ২\n"
     ]
    }
   ],
   "source": [
    "if __name__ == \"__main__\":\n",
    "    main()"
   ]
  },
  {
   "cell_type": "code",
   "execution_count": 7,
   "metadata": {},
   "outputs": [
    {
     "name": "stdout",
     "output_type": "stream",
     "text": [
      "<built-in function next>\n"
     ]
    }
   ],
   "source": [
    "#print(item)\n",
    "print(next)\n",
    "   "
   ]
  }
 ],
 "metadata": {
  "kernelspec": {
   "display_name": "scraper",
   "language": "python",
   "name": "python3"
  },
  "language_info": {
   "codemirror_mode": {
    "name": "ipython",
    "version": 3
   },
   "file_extension": ".py",
   "mimetype": "text/x-python",
   "name": "python",
   "nbconvert_exporter": "python",
   "pygments_lexer": "ipython3",
   "version": "3.9.16"
  },
  "orig_nbformat": 4
 },
 "nbformat": 4,
 "nbformat_minor": 2
}
